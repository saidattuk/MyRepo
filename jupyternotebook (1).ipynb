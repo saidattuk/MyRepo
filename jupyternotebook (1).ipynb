{
 "cells": [
  {
   "cell_type": "markdown",
   "id": "f01b822f",
   "metadata": {},
   "source": [
    "# Exercise 2: Data Science Tools and Ecosystem"
   ]
  },
  {
   "cell_type": "markdown",
   "id": "d893cbee",
   "metadata": {},
   "source": [
    "Exercise 3: Jupyter nootbook is an open source web application that you can use share documents containing code, equations and visualization.It used to have an ipython notebooks for project. The name jupyter, comes from a programming languages that is support: Julia, Python and R."
   ]
  },
  {
   "cell_type": "markdown",
   "id": "99be3606",
   "metadata": {},
   "source": [
    "Exercise 4: Some of the popular languages Data Scientist use are:\n",
    "\n",
    "1. Python\n",
    "2. R,Julia\n",
    "3. MySQL\n",
    "4. Database\n",
    "5. C++\n"
   ]
  },
  {
   "cell_type": "markdown",
   "id": "bb6286b3",
   "metadata": {},
   "source": [
    "Exercise 5: some of the commonly used Libraries used by data scientist are listed below:\n",
    "\n",
    "Libraries in pyhon:\n",
    "1. Numpy\n",
    "2. Pandas \n",
    "3. Matplotlib \n",
    "4. Seaborn \n",
    "\n",
    "Libraries in Scala:\n",
    "1. Vegas \n",
    "2. Big DL\n",
    "\n",
    "libraries in R:\n",
    "1. ggplot2\n",
    "2. Keras\n",
    "3. TensorFlow "
   ]
  },
  {
   "cell_type": "markdown",
   "id": "5aac7b00",
   "metadata": {},
   "source": [
    "Exercise 6: \n",
    "    \n",
    "    DATA SCIENCE TOOLS \n",
    "    \n",
    "1. Apache Hadoop\n",
    "2. IBM Watson Studio\n",
    "3. R Studio"
   ]
  },
  {
   "cell_type": "markdown",
   "id": "e7a26067",
   "metadata": {},
   "source": [
    "# Exercise 7: Below are the example of expressing arithmatic expression \n",
    "......................................................................\n",
    "\n",
    "1. a=10\n",
    "2. b=20\n",
    "3. c=a+b\n",
    "4. print(c)\n",
    "5. 30"
   ]
  },
  {
   "cell_type": "code",
   "execution_count": 5,
   "id": "7bd0503f",
   "metadata": {},
   "outputs": [
    {
     "name": "stdout",
     "output_type": "stream",
     "text": [
      "17\n"
     ]
    }
   ],
   "source": [
    "# Exercise 8: Creat a code cell to multiply and add numbers \n",
    "c=(3*4)+5\n",
    "print(c)"
   ]
  },
  {
   "cell_type": "code",
   "execution_count": 6,
   "id": "bea0654b",
   "metadata": {},
   "outputs": [
    {
     "data": {
      "text/plain": [
       "3.3333333333333335"
      ]
     },
     "execution_count": 6,
     "metadata": {},
     "output_type": "execute_result"
    }
   ],
   "source": [
    "# Exercise 9 : This will converts 200 minute to hours by dividing by 60\n",
    "min_hr_tm = 200/60\n",
    "min_hr_tm"
   ]
  },
  {
   "cell_type": "markdown",
   "id": "d970e88a",
   "metadata": {},
   "source": [
    "#Exercise 10: Below introductory cell created in exercise 3\n",
    "\n",
    "OBJECTIVE OF JUPYTER NOTEBOOKS LANGUAGUES IN DATA SCIENCE \n",
    "\n",
    "PYTHON:\n",
    "1. Python uses clear and readable syntax \n",
    "2. For beginners, python is a very good language to start with because of the huge global community and wealth of documentation\n",
    "3. For Data Science, you can use python scientific computing libraries like pandas, numpy, scipy,  and matplotlib\n",
    "4. It is the most widely used and most popular programing language used in data scince industry.\n",
    "\n",
    "R Studio:\n",
    "1. R is free software \n",
    "2. R is another language supported by wide global community of people who want to use language to solve problem \n",
    "3. R to develope statistical software,graphing, and data analysis\n",
    "4. Using R, common mathematical operation like matrix multiplication gives immediate results.\n",
    "\n",
    "Scala:\n",
    "1. Scala is conbination of scalable and language\n",
    "2. This language is designed to evolve with requirements of its users\n",
    "3. For data science the most popular programe built with scala is Apache spark \n",
    "4. Spark is fast and general purpose cluster computing system that provides APIs "
   ]
  },
  {
   "cell_type": "markdown",
   "id": "ba19b29c",
   "metadata": {},
   "source": [
    "# Author's Names \n",
    "\n",
    "# Lakshmi Holla\n",
    "# Niveditha Pandith\n",
    "# Rav Ahuja\n",
    "# Malika Singla\n",
    "# Poweide Akepe "
   ]
  }
 ],
 "metadata": {
  "kernelspec": {
   "display_name": "Python 3 (ipykernel)",
   "language": "python",
   "name": "python3"
  },
  "language_info": {
   "codemirror_mode": {
    "name": "ipython",
    "version": 3
   },
   "file_extension": ".py",
   "mimetype": "text/x-python",
   "name": "python",
   "nbconvert_exporter": "python",
   "pygments_lexer": "ipython3",
   "version": "3.9.13"
  }
 },
 "nbformat": 4,
 "nbformat_minor": 5
}
